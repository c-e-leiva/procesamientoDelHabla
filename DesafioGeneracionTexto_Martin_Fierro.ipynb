{
  "nbformat": 4,
  "nbformat_minor": 0,
  "metadata": {
    "colab": {
      "provenance": [],
      "authorship_tag": "ABX9TyNaecF4lAsq0L0bHNTeLXvD",
      "include_colab_link": true
    },
    "kernelspec": {
      "name": "python3",
      "display_name": "Python 3"
    },
    "language_info": {
      "name": "python"
    }
  },
  "cells": [
    {
      "cell_type": "markdown",
      "metadata": {
        "id": "view-in-github",
        "colab_type": "text"
      },
      "source": [
        "<a href=\"https://colab.research.google.com/github/c-e-leiva/procesamientoDelHabla/blob/main/DesafioGeneracionTexto_Martin_Fierrotexto.ipynb\" target=\"_parent\"><img src=\"https://colab.research.google.com/assets/colab-badge.svg\" alt=\"Open In Colab\"/></a>"
      ]
    },
    {
      "cell_type": "markdown",
      "source": [
        "---\n",
        "# Leiva Carlos Ezequiel\n",
        "---"
      ],
      "metadata": {
        "id": "GIcntM3OjBWr"
      }
    },
    {
      "cell_type": "markdown",
      "source": [
        "# **Generación de Texto en el Estilo de Martín Fierro - Tema 9**\n",
        "\n",
        "### **Consignas:**\n",
        "\n",
        "Entrenar al menos un modelo seq2seq y utilizar al menos uno pre-entrenado de transformers (ej. GPT-2, llama3, etc)"
      ],
      "metadata": {
        "id": "pvLJyzqtc8sU"
      }
    }
  ]
}
