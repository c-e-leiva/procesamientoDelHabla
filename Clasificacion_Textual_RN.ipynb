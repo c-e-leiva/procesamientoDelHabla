{
  "nbformat": 4,
  "nbformat_minor": 0,
  "metadata": {
    "colab": {
      "provenance": [],
      "authorship_tag": "ABX9TyM5Ir7kcQGNLmU+rEj+rZdD",
      "include_colab_link": true
    },
    "kernelspec": {
      "name": "python3",
      "display_name": "Python 3"
    },
    "language_info": {
      "name": "python"
    }
  },
  "cells": [
    {
      "cell_type": "markdown",
      "metadata": {
        "id": "view-in-github",
        "colab_type": "text"
      },
      "source": [
        "<a href=\"https://colab.research.google.com/github/c-e-leiva/procesamientoDelHabla/blob/main/Clasificacion_Textual_RN.ipynb\" target=\"_parent\"><img src=\"https://colab.research.google.com/assets/colab-badge.svg\" alt=\"Open In Colab\"/></a>"
      ]
    },
    {
      "cell_type": "markdown",
      "source": [
        "---\n",
        "# Leiva Carlos Ezequiel\n",
        "---"
      ],
      "metadata": {
        "id": "GIcntM3OjBWr"
      }
    },
    {
      "cell_type": "markdown",
      "source": [
        "# **CASO DE ESTUDIO:**\n",
        "# **Clasificación de textos usando redes neuronales**\n",
        "\n",
        "## **Consignas:**\n",
        "\n",
        "- 1) Describa las principales características del dataset utilizado.\n",
        "\n",
        "- 2) Deben comentar su experiencia al intentar correr el mismo código en sus computadoras: cuáles errores surgieron, cómo los solucionaron, sugerencias que brindan, si debieron o no modificar algo del código para solucionar algún error o poder correr el ejemplo en sus máquinas.\n",
        "\n",
        "- 3) Explique con sus palabras el pre-procesamiento que realiza en el dataset para poder utilizarlo para entrenar la red neuronal. Postee también el resultado final de evaluación del modelo ( la salida del apartado \"Evaluate the model on the test set)\n",
        "\n",
        "- 4) En este ejemplo para evaluar el modelo utiliza la métrica accuracy. ¿Qué opina al respecto? ¿Está bien/mal? ¿sumaría otra métrica?\n",
        "\n",
        "- 5) Comente alguna parte que le haya llamado la atención y por qué.\n",
        "\n",
        "- 6) Escriba las dudas que hayan quedado de realizar este trabajo.\n",
        "\n"
      ],
      "metadata": {
        "id": "pvLJyzqtc8sU"
      }
    },
    {
      "cell_type": "markdown",
      "source": [
        "___________\n",
        "___________\n",
        "___________\n",
        "___________"
      ],
      "metadata": {
        "id": "IwOk5SR3T7WG"
      }
    },
    {
      "cell_type": "markdown",
      "source": [
        "# **RESPUESTAS:**\n",
        "\n",
        "## **1) Principales características del dataset**\n",
        "\n",
        "\n",
        "- **Tamaño del dataset**: 50,000 reseñas totales.\n",
        "  - 25,000 para entrenamiento.\n",
        "    - Reseñas positivas: 12,500 (puntuación >= 7/10).\n",
        "    - Reseñas negativas: 12,500 (puntuación <= 4/10).\n",
        "  - 25,000 para prueba.\n",
        "    - Reseñas positivas: 12,500 (puntuación >= 7/10).\n",
        "    - Reseñas negativas: 12,500 (puntuación <= 4/10).\n",
        "  - 50,000 documentos adicionales sin etiquetar para aprendizaje no supervisado.\n",
        "  \n",
        "- **Distribución de las etiquetas**:\n",
        "  - Reseñas positivas: Puntuación >= 7/10.\n",
        "  - Reseñas negativas: Puntuación <= 4/10.\n",
        "  - No incluye reseñas con puntuaciones neutrales (entre 5 y 6).\n",
        "\n",
        "- **Estructura del dataset**:\n",
        "  - Directorios separados para entrenamiento (`train/`) y prueba (`test/`).\n",
        "  - Cada uno contiene subdirectorios para reseñas etiquetadas como positivas (`pos/`) y negativas (`neg/`).\n",
        "  - Los archivos de texto siguen el formato: `[id]_[calificación].txt`.\n",
        "\n",
        "- **Reseñas por película**:\n",
        "  - No más de 30 reseñas permitidas por película para evitar correlaciones entre calificaciones.\n",
        "  \n",
        "- **Desconexión entre conjuntos de entrenamiento y prueba**:\n",
        "  - Las películas en los conjuntos de entrenamiento y prueba no se superponen, lo que evita memorizar términos únicos de películas.\n",
        "\n",
        "- **Características adicionales**:\n",
        "  - Incluye una versión tokenizada de las reseñas en formato **Bag of Words (BoW)**, almacenada en archivos `.feat`.\n",
        "  - Se proporcionan archivos de URL para cada reseña y un archivo de vocabulario (`imdb.vocab`).\n",
        "\n",
        "- **Formato de los archivos de características**:\n",
        "  - Las características BoW están en formato **LIBSVM** (vectores dispersos en formato ASCII)."
      ],
      "metadata": {
        "id": "8IBPUsKhT93x"
      }
    },
    {
      "cell_type": "markdown",
      "source": [
        "## **2) Experiencia al Correr el Código:**\n",
        "\n",
        "El código se ejecutó sin inconvenientes en mi máquina, y no encontré errores durante la descarga y descompresión del dataset. Sin embargo, para profundizar mi comprensión, investigué el funcionamiento de cada bloque del código y añadí comentarios adicionales que explican paso a paso el proceso. Al final, incluí un bloque de código que cuenta la cantidad de reseñas positivas y negativas en el conjunto de entrenamiento. Utilicé funciones de la librería os para listar los archivos en los directorios correspondientes a reseñas positivas y negativas, y al final, imprimí el total de reseñas en este conjunto de entrenamiento. Esta práctica me ayudó a comprender mejor la estructura del dataset y la manera en que se organizan las reseñas.\n"
      ],
      "metadata": {
        "id": "lypId41dUxSL"
      }
    },
    {
      "cell_type": "markdown",
      "source": [
        "## **3) Pre-procesamiento del Dataset:**\n",
        "\n",
        "El preprocesamiento del dataset implica limpiar y preparar las reseñas para que la red neuronal las pueda interpretar correctamente. En primer lugar, se eliminan elementos innecesarios, como etiquetas HTML y signos de puntuación, y se convierte todo el texto a minúsculas. Después, se convierte el texto en una representación numérica, donde cada palabra se asocia con un número específico, formando así un vocabulario. Esto facilita que el modelo analice el texto de manera más efectiva. Finalmente, se organizan las reseñas en grupos (o lotes) para que el modelo las procese de manera eficiente durante el entrenamiento. Todo este proceso asegura que los datos estén listos y en buen estado para ser utilizados por la red neuronal.\n",
        "\n",
        "## **Resultados de la Evaluación del Modelo:**\n",
        "\n",
        "El modelo fue evaluado en el conjunto de prueba con los siguientes resultados:\n",
        "\n",
        "- **Precisión (Accuracy):** 85.90%\n",
        "- **Pérdida (Loss):** 0.4093\n",
        "\n",
        "**Resumen de la Evaluación:**\n",
        "- Pérdida: 0.4198\n",
        "- Precisión: 85.75%\n"
      ],
      "metadata": {
        "id": "vekySAiKYDPj"
      }
    },
    {
      "cell_type": "markdown",
      "source": [
        "# **4) Opinión sobre la Métrica Accuracy:**\n",
        "\n",
        "El modelo se evalúa utilizando la métrica de accuracy, lo cual es adecuado dado que el dataset tiene una distribución equilibrada de 25,000 reseñas positivas y 25,000 negativas. Esto significa que la accuracy refleja de manera confiable el rendimiento del modelo. Sin embargo, sería beneficioso incluir otras métricas como el recall, que mide cuántas reseñas positivas se identificaron correctamente, y la precisión, que indica cuántas de las predicciones positivas fueron acertadas. Además, el F1 Score combina recall y precisión, ofreciendo una evaluación más completa del modelo. Por lo tanto, aunque la accuracy es un buen indicador, considerar más métricas permite obtener una visión más clara de su desempeño."
      ],
      "metadata": {
        "id": "TaZKKpQWU4Sd"
      }
    },
    {
      "cell_type": "markdown",
      "source": [
        "## **5) Aspecto Llamativo:**\n",
        "\n",
        "Una parte que me llamó la atención es la implementación de la técnica Bag of Words (BoW) en el dataset, que transforma las reseñas de texto en representaciones numéricas. Esto es particularmente interesante porque simplifica la tarea del modelo de clasificación de texto, permitiéndole comprender y procesar las reseñas de manera más efectiva. Al convertir el texto en números, se aprovechan las fortalezas de los algoritmos de machine learning, que suelen rendir mejor con datos numéricos, lo que resulta en una evaluación más precisa de las opiniones expresadas en las reseñas."
      ],
      "metadata": {
        "id": "j1hionLJbnUO"
      }
    },
    {
      "cell_type": "markdown",
      "source": [
        "## **6) Dudas sobre el trabajo realizado:**\n",
        "\n",
        "Al realizar el trabajo, surgieron algunas dudas. En primer lugar, aunque el dataset utilizado presenta un balance adecuado entre reseñas positivas y negativas, me preocupa cómo gestionar situaciones en las que los datos puedan estar desbalanceados en futuros proyectos. ¿Cuáles serían las mejores estrategias para abordar este desbalance? Además, me gustaría explorar qué mejoras se podrían implementar en el modelo actual para optimizar la clasificación de texto. ¿Sería beneficioso considerar enfoques más sofisticados que pudieran mejorar el rendimiento y la precisión en la clasificación?"
      ],
      "metadata": {
        "id": "ihGRwQbmfYbT"
      }
    },
    {
      "cell_type": "markdown",
      "source": [
        "___________\n",
        "___________\n",
        "___________\n",
        "___________"
      ],
      "metadata": {
        "id": "MzA5Qno8gzhI"
      }
    },
    {
      "cell_type": "markdown",
      "source": [
        "# **Text classification from scratch**"
      ],
      "metadata": {
        "id": "NbkOXuTHixT1"
      }
    },
    {
      "cell_type": "markdown",
      "source": [
        "Authors: Mark Omernick, Francois Chollet\n",
        "\n",
        "Date created: 2019/11/\n",
        "\n",
        "Last modified: 2020/05/17\n",
        "\n",
        "Description: Text sentiment classification starting from raw text files."
      ],
      "metadata": {
        "id": "zwCU15Z6fxGW"
      }
    },
    {
      "cell_type": "markdown",
      "source": [
        "## **Introduction**\n",
        "\n",
        "This example shows how to do text classification starting from raw text (as a set of text files on disk). We demonstrate the workflow on the IMDB sentiment classification dataset (unprocessed version). We use the TextVectorization layer for word splitting & indexing."
      ],
      "metadata": {
        "id": "_4swB0xxgHjI"
      }
    },
    {
      "cell_type": "markdown",
      "source": [
        "# **Setup**"
      ],
      "metadata": {
        "id": "MyVG2gNFgksA"
      }
    },
    {
      "cell_type": "markdown",
      "source": [
        "## Configuración del entorno para usar TensorFlow como backend de Keras y carga de las bibliotecas necesarias para la construcción del modelo."
      ],
      "metadata": {
        "id": "lYGiibwwN6bv"
      }
    },
    {
      "cell_type": "code",
      "execution_count": null,
      "metadata": {
        "id": "xkSNvoHMclru"
      },
      "outputs": [],
      "source": [
        "import os\n",
        "os.environ[\"KERAS_BACKEND\"] = \"tensorflow\"\n",
        "import keras\n",
        "import tensorflow as tf\n",
        "import numpy as np\n",
        "from keras import layers"
      ]
    },
    {
      "cell_type": "markdown",
      "source": [
        "# **Load the data: IMDB movie review sentiment classification**\n",
        "## Let's download the data and inspect its structure."
      ],
      "metadata": {
        "id": "M8Zsr4VehCOJ"
      }
    },
    {
      "cell_type": "markdown",
      "source": [
        "## Descarga y extracción de los datos de reseñas de películas de IMDB que se utilizarán para la clasificación de sentimientos (positivas o negativas)."
      ],
      "metadata": {
        "id": "NwhN7_Y8ONsq"
      }
    },
    {
      "cell_type": "code",
      "source": [
        "!curl -O https://ai.stanford.edu/~amaas/data/sentiment/aclImdb_v1.tar.gz\n",
        "!tar -xf aclImdb_v1.tar.gz"
      ],
      "metadata": {
        "colab": {
          "base_uri": "https://localhost:8080/"
        },
        "id": "XY7Ld82DhGeN",
        "outputId": "8e03799d-782d-420a-fcc9-e9e64d1ea82b"
      },
      "execution_count": null,
      "outputs": [
        {
          "output_type": "stream",
          "name": "stdout",
          "text": [
            "  % Total    % Received % Xferd  Average Speed   Time    Time     Time  Current\n",
            "                                 Dload  Upload   Total   Spent    Left  Speed\n",
            "100 80.2M  100 80.2M    0     0   883k      0  0:01:32  0:01:32 --:--:-- 1673k\n"
          ]
        }
      ]
    },
    {
      "cell_type": "markdown",
      "source": [
        "# **The aclImdb folder contains a train and test subfolder:**\n",
        "\n",
        "## Listado del contenido de la carpeta descargada, que incluye datos de entrenamiento y prueba para el modelo."
      ],
      "metadata": {
        "id": "5IC8xPgxhyy7"
      }
    },
    {
      "cell_type": "code",
      "source": [
        "!ls aclImdb"
      ],
      "metadata": {
        "colab": {
          "base_uri": "https://localhost:8080/"
        },
        "id": "wdsWChcRh1DV",
        "outputId": "ef105b62-862f-43b9-8205-0931ed45df90"
      },
      "execution_count": null,
      "outputs": [
        {
          "output_type": "stream",
          "name": "stdout",
          "text": [
            "imdbEr.txt  imdb.vocab\tREADME\ttest  train\n"
          ]
        }
      ]
    },
    {
      "cell_type": "code",
      "source": [
        "!ls aclImdb/test"
      ],
      "metadata": {
        "colab": {
          "base_uri": "https://localhost:8080/"
        },
        "id": "tTIFU0DNh8Lz",
        "outputId": "1fb2dc99-eab0-493f-c122-ca838fc3104f"
      },
      "execution_count": null,
      "outputs": [
        {
          "output_type": "stream",
          "name": "stdout",
          "text": [
            "labeledBow.feat  neg  pos  urls_neg.txt  urls_pos.txt\n"
          ]
        }
      ]
    },
    {
      "cell_type": "code",
      "source": [
        "!ls aclImdb/train"
      ],
      "metadata": {
        "colab": {
          "base_uri": "https://localhost:8080/"
        },
        "id": "Hcr6BbzVh8xp",
        "outputId": "371085e7-1c58-437d-d21c-e16c9ac14175"
      },
      "execution_count": null,
      "outputs": [
        {
          "output_type": "stream",
          "name": "stdout",
          "text": [
            "labeledBow.feat  neg  pos  unsup  unsupBow.feat  urls_neg.txt  urls_pos.txt  urls_unsup.txt\n"
          ]
        }
      ]
    },
    {
      "cell_type": "markdown",
      "source": [
        "# **The aclImdb/train/pos and aclImdb/train/neg folders contain text files, each of which represents one review (either positive or negative):**"
      ],
      "metadata": {
        "id": "yY8a4OoQiMGt"
      }
    },
    {
      "cell_type": "markdown",
      "source": [
        "## Muestra el contenido de un archivo de reseña positiva de la carpeta de entrenamiento."
      ],
      "metadata": {
        "id": "RIWA4YvsO2AA"
      }
    },
    {
      "cell_type": "code",
      "source": [
        "!cat aclImdb/train/pos/6248_7.txt"
      ],
      "metadata": {
        "colab": {
          "base_uri": "https://localhost:8080/"
        },
        "id": "SqQEmy_IiNYL",
        "outputId": "b3fd983c-04ad-4af0-eaaf-94c07c6bf4e1"
      },
      "execution_count": null,
      "outputs": [
        {
          "output_type": "stream",
          "name": "stdout",
          "text": [
            "Being an Austrian myself this has been a straight knock in my face. Fortunately I don't live nowhere near the place where this movie takes place but unfortunately it portrays everything that the rest of Austria hates about Viennese people (or people close to that region). And it is very easy to read that this is exactly the directors intention: to let your head sink into your hands and say \"Oh my god, how can THAT be possible!\". No, not with me, the (in my opinion) totally exaggerated uncensored swinger club scene is not necessary, I watch porn, sure, but in this context I was rather disgusted than put in the right context.<br /><br />This movie tells a story about how misled people who suffer from lack of education or bad company try to survive and live in a world of redundancy and boring horizons. A girl who is treated like a whore by her super-jealous boyfriend (and still keeps coming back), a female teacher who discovers her masochism by putting the life of her super-cruel \"lover\" on the line, an old couple who has an almost mathematical daily cycle (she is the \"official replacement\" of his ex wife), a couple that has just divorced and has the ex husband suffer under the acts of his former wife obviously having a relationship with her masseuse and finally a crazy hitchhiker who asks her drivers the most unusual questions and stretches their nerves by just being super-annoying.<br /><br />After having seen it you feel almost nothing. You're not even shocked, sad, depressed or feel like doing anything... Maybe that's why I gave it 7 points, it made me react in a way I never reacted before. If that's good or bad is up to you!"
          ]
        }
      ]
    },
    {
      "cell_type": "markdown",
      "source": [
        "# **We are only interested in the pos and neg subfolders, so let's delete the other subfolder that has text files in it:**"
      ],
      "metadata": {
        "id": "yPXIo4UjiVLP"
      }
    },
    {
      "cell_type": "markdown",
      "source": [
        "## Eliminación de la carpeta \"unsup\" que contiene datos no etiquetados, ya que no se utilizarán en este caso de clasificación de sentimientos."
      ],
      "metadata": {
        "id": "csiO3HQ_PBSb"
      }
    },
    {
      "cell_type": "code",
      "source": [
        "!rm -r aclImdb/train/unsup"
      ],
      "metadata": {
        "id": "pm_8hFl6iV_3"
      },
      "execution_count": null,
      "outputs": []
    },
    {
      "cell_type": "markdown",
      "source": [
        "You can use the utility keras.utils.text_dataset_from_directory to generate a labeled tf.data.Dataset object from a set of text files on disk filed into class-specific folders.\n",
        "\n",
        "Let's use it to generate the training, validation, and test datasets. The validation and training datasets are generated from two subsets of the train directory, with 20% of samples going to the validation dataset and 80% going to the training dataset.\n",
        "\n",
        "Having a validation dataset in addition to the test dataset is useful for tuning hyperparameters, such as the model architecture, for which the test dataset should not be used.\n",
        "\n",
        "Before putting the model out into the real world however, it should be retrained using all available training data (without creating a validation dataset), so its performance is maximized.\n",
        "\n",
        "When using the validation_split & subset arguments, make sure to either specify a random seed, or to pass shuffle=False, so that the validation & training splits you get have no overlap."
      ],
      "metadata": {
        "id": "ocjiXPKDid7Z"
      }
    },
    {
      "cell_type": "markdown",
      "source": [
        "# Generación de datasets etiquetados (entrenamiento, validación y prueba) a partir de archivos de texto organizados en carpetas según su clase."
      ],
      "metadata": {
        "id": "OasLFnEjPLKN"
      }
    },
    {
      "cell_type": "code",
      "source": [
        "batch_size = 32\n",
        "raw_train_ds = keras.utils.text_dataset_from_directory(\n",
        "    \"aclImdb/train\",\n",
        "    batch_size=batch_size,\n",
        "    validation_split=0.2,\n",
        "    subset=\"training\",\n",
        "    seed=1337,\n",
        ")\n",
        "raw_val_ds = keras.utils.text_dataset_from_directory(\n",
        "    \"aclImdb/train\",\n",
        "    batch_size=batch_size,\n",
        "    validation_split=0.2,\n",
        "    subset=\"validation\",\n",
        "    seed=1337,\n",
        ")\n",
        "raw_test_ds = keras.utils.text_dataset_from_directory(\n",
        "    \"aclImdb/test\", batch_size=batch_size\n",
        ")\n",
        "\n",
        "print(f\"Number of batches in raw_train_ds: {raw_train_ds.cardinality()}\")\n",
        "print(f\"Number of batches in raw_val_ds: {raw_val_ds.cardinality()}\")\n",
        "print(f\"Number of batches in raw_test_ds: {raw_test_ds.cardinality()}\")"
      ],
      "metadata": {
        "colab": {
          "base_uri": "https://localhost:8080/"
        },
        "id": "30VHVHRXiYen",
        "outputId": "8d415caf-35b2-4131-e2bf-f0c937a71fb9"
      },
      "execution_count": null,
      "outputs": [
        {
          "output_type": "stream",
          "name": "stdout",
          "text": [
            "Found 25000 files belonging to 2 classes.\n",
            "Using 20000 files for training.\n",
            "Found 25000 files belonging to 2 classes.\n",
            "Using 5000 files for validation.\n",
            "Found 25000 files belonging to 2 classes.\n",
            "Number of batches in raw_train_ds: 625\n",
            "Number of batches in raw_val_ds: 157\n",
            "Number of batches in raw_test_ds: 782\n"
          ]
        }
      ]
    },
    {
      "cell_type": "markdown",
      "source": [
        "# **Let's preview a few samples:**"
      ],
      "metadata": {
        "id": "HK9Vd_uripRv"
      }
    },
    {
      "cell_type": "markdown",
      "source": [
        "## Visualización de ejemplos de texto y etiquetas del dataset de entrenamiento para asegurarse de que los datos están en el formato correcto antes de procesarlos."
      ],
      "metadata": {
        "id": "Uoe0gAWyPWJh"
      }
    },
    {
      "cell_type": "code",
      "source": [
        "# It's important to take a look at your raw data to ensure your normalization\n",
        "# and tokenization will work as expected. We can do that by taking a few\n",
        "# examples from the training set and looking at them.\n",
        "# This is one of the places where eager execution shines:\n",
        "# we can just evaluate these tensors using .numpy()\n",
        "# instead of needing to evaluate them in a Session/Graph context.\n",
        "for text_batch, label_batch in raw_train_ds.take(1):\n",
        "    for i in range(5):\n",
        "        print(text_batch.numpy()[i])\n",
        "        print(label_batch.numpy()[i])"
      ],
      "metadata": {
        "colab": {
          "base_uri": "https://localhost:8080/"
        },
        "id": "h034idfGiqwT",
        "outputId": "dd86667b-9536-4438-af22-f1644ec5734d"
      },
      "execution_count": null,
      "outputs": [
        {
          "output_type": "stream",
          "name": "stdout",
          "text": [
            "b'I\\'ve seen tons of science fiction from the 70s; some horrendously bad, and others thought provoking and truly frightening. Soylent Green fits into the latter category. Yes, at times it\\'s a little campy, and yes, the furniture is good for a giggle or two, but some of the film seems awfully prescient. Here we have a film, 9 years before Blade Runner, that dares to imagine the future as somthing dark, scary, and nihilistic. Both Charlton Heston and Edward G. Robinson fare far better in this than The Ten Commandments, and Robinson\\'s assisted-suicide scene is creepily prescient of Kevorkian and his ilk. Some of the attitudes are dated (can you imagine a filmmaker getting away with the \"women as furniture\" concept in our oh-so-politically-correct-90s?), but it\\'s rare to find a film from the Me Decade that actually can make you think. This is one I\\'d love to see on the big screen, because even in a widescreen presentation, I don\\'t think the overall scope of this film would receive its due. Check it out.'\n",
            "1\n",
            "b'First than anything, I\\'m not going to praise I\\xc3\\xb1arritu\\'s short film, even I\\'m Mexican and proud of his success in mainstream Hollywood.<br /><br />In another hand, I see most of the reviews focuses on their favorite (and not so) short films; but we are forgetting that there is a subtle bottom line that circles the whole compilation, and maybe it will not be so pleasant for American people. (Even if that was not the main purpose of the producers) <br /><br />What i\\'m talking about is that most of the short films does not show the suffering that WASP people went through because the terrorist attack on September 11th, but the suffering of the Other people.<br /><br />Do you need proofs about what i\\'m saying? Look, in the Bosnia short film, the message is: \"You cry because of the people who died in the Towers, but we (The Others = East Europeans) are crying long ago for the crimes committed against our women and nobody pay attention to us like the whole world has done to you\".<br /><br />Even though the Burkina Fasso story is more in comedy, there is a the same thought: \"You are angry because Osama Bin Laden punched you in an evil way, but we (The Others = Africans) should be more angry, because our people is dying of hunger, poverty and AIDS long time ago, and nobody pay attention to us like the whole world has done to you\".<br /><br />Look now at the Sean Penn short: The fall of the Twin Towers makes happy to a lonely (and alienated) man. So the message is that the Power and the Greed (symbolized by the Towers) must fall for letting the people see the sun rise and the flowers blossom? It is remarkable that this terrible bottom line has been proposed by an American. There is so much irony in this short film that it is close to be subversive.<br /><br />Well, the Ken Loach (very know because his anti-capitalism ideology) is much more clearly and shameless in going straight to the point: \"You are angry because your country has been attacked by evil forces, but we (The Others = Latin Americans) suffered at a similar date something worst, and nobody remembers our grief as the whole world has done to you\".<br /><br />It is like if the creative of this project wanted to say to Americans: \"You see now, America? You are not the only that have become victim of the world violence, you are not alone in your pain and by the way, we (the Others = the Non Americans) have been suffering a lot more than you from long time ago; so, we are in solidarity with you in your pain... and by the way, we are sorry because you have had some taste of your own medicine\" Only the Mexican and the French short films showed some compassion and sympathy for American people; the others are like a slap on the face for the American State, that is not equal to American People.'\n",
            "1\n",
            "b'Blood Castle (aka Scream of the Demon Lover, Altar of Blood, Ivanna--the best, but least exploitation cinema-sounding title, and so on) is a very traditional Gothic Romance film. That means that it has big, creepy castles, a headstrong young woman, a mysterious older man, hints of horror and the supernatural, and romance elements in the contemporary sense of that genre term. It also means that it is very deliberately paced, and that the film will work best for horror mavens who are big fans of understatement. If you love films like Robert Wise\\'s The Haunting (1963), but you also have a taste for late 1960s/early 1970s Spanish and Italian horror, you may love Blood Castle, as well.<br /><br />Baron Janos Dalmar (Carlos Quiney) lives in a large castle on the outskirts of a traditional, unspecified European village. The locals fear him because legend has it that whenever he beds a woman, she soon after ends up dead--the consensus is that he sets his ferocious dogs on them. This is quite a problem because the Baron has a very healthy appetite for women. At the beginning of the film, yet another woman has turned up dead and mutilated.<br /><br />Meanwhile, Dr. Ivanna Rakowsky (Erna Sch\\xc3\\xbcrer) has appeared in the center of the village, asking to be taken to Baron Dalmar\\'s castle. She\\'s an out-of-towner who has been hired by the Baron for her expertise in chemistry. Of course, no one wants to go near the castle. Finally, Ivanna finds a shady individual (who becomes even shadier) to take her. Once there, an odd woman who lives in the castle, Olga (Cristiana Galloni), rejects Ivanna and says that she shouldn\\'t be there since she\\'s a woman. Baron Dalmar vacillates over whether she should stay. She ends up staying, but somewhat reluctantly. The Baron has hired her to try to reverse the effects of severe burns, which the Baron\\'s brother, Igor, is suffering from.<br /><br />Unfortunately, the Baron\\'s brother appears to be just a lump of decomposing flesh in a vat of bizarre, blackish liquid. And furthermore, Ivanna is having bizarre, hallucinatory dreams. Just what is going on at the castle? Is the Baron responsible for the crimes? Is he insane? <br /><br />I wanted to like Blood Castle more than I did. As I mentioned, the film is very deliberate in its pacing, and most of it is very understated. I can go either way on material like that. I don\\'t care for The Haunting (yes, I\\'m in a very small minority there), but I\\'m a big fan of 1960s and 1970s European horror. One of my favorite directors is Mario Bava. I also love Dario Argento\\'s work from that period. But occasionally, Blood Castle moved a bit too slow for me at times. There are large chunks that amount to scenes of not very exciting talking alternated with scenes of Ivanna slowly walking the corridors of the castle.<br /><br />But the atmosphere of the film is decent. Director Jos\\xc3\\xa9 Luis Merino managed more than passable sets and locations, and they\\'re shot fairly well by Emanuele Di Cola. However, Blood Castle feels relatively low budget, and this is a Roger Corman-produced film, after all (which usually means a low-budget, though often surprisingly high quality \"quickie\"). So while there is a hint of the lushness of Bava\\'s colors and complex set decoration, everything is much more minimalist. Of course, it doesn\\'t help that the Retromedia print I watched looks like a 30-year old photograph that\\'s been left out in the sun too long. It appears \"washed out\", with compromised contrast.<br /><br />Still, Merino and Di Cola occasionally set up fantastic visuals. For example, a scene of Ivanna walking in a darkened hallway that\\'s shot from an exaggerated angle, and where an important plot element is revealed through shadows on a wall only. There are also a couple Ingmar Bergmanesque shots, where actors are exquisitely blocked to imply complex relationships, besides just being visually attractive and pulling your eye deep into the frame.<br /><br />The performances are fairly good, and the women--especially Sch\\xc3\\xbcrer--are very attractive. Merino exploits this fact by incorporating a decent amount of nudity. Sch\\xc3\\xbcrer went on to do a number of films that were as much soft corn porn as they were other genres, with English titles such as Sex Life in a Woman\\'s Prison (1974), Naked and Lustful (1974), Strip Nude for Your Killer (1975) and Erotic Exploits of a Sexy Seducer (1977). Blood Castle is much tamer, but in addition to the nudity, there are still mild scenes suggesting rape and bondage, and of course the scenes mixing sex and death.<br /><br />The primary attraction here, though, is probably the story, which is much a slow-burning romance as anything else. The horror elements, the mystery elements, and a somewhat unexpected twist near the end are bonuses, but in the end, Blood Castle is a love story, about a couple overcoming various difficulties and antagonisms (often with physical threats or harms) to be together.'\n",
            "1\n",
            "b\"I was talked into watching this movie by a friend who blubbered on about what a cute story this was.<br /><br />Yuck.<br /><br />I want my two hours back, as I could have done SO many more productive things with my time...like, for instance, twiddling my thumbs. I see nothing redeeming about this film at all, save for the eye-candy aspect of it...<br /><br />3/10 (and that's being generous)\"\n",
            "0\n",
            "b\"Michelle Rodriguez is the defining actress who could be the charging force for other actresses to look out for. She has the audacity to place herself in a rarely seen tough-girl role very early in her career (and pull it off), which is a feat that should be recognized. Although her later films pigeonhole her to that same role, this film was made for her ruggedness.<br /><br />Her character is a romanticized student/fighter/lover, struggling to overcome her disenchanted existence in the projects, which is a little overdone in film...but not by a girl. That aspect of this film isn't very original, but the story goes in depth when the heated relationships that this girl has to deal with come to a boil and her primal rage takes over.<br /><br />I haven't seen an actress take such an aggressive stance in movie-making yet, and I'm glad that she's getting that original twist out there in Hollywood. This film got a 7 from me because of the average story of ghetto youth, but it has such a great actress portraying a rarely-seen role in a minimal budget movie. Great work.\"\n",
            "1\n"
          ]
        }
      ]
    },
    {
      "cell_type": "markdown",
      "source": [
        "# **Prepare the data**\n",
        "## In particular, we remove < br / > tags.\n",
        "\n",
        "\n",
        "\n"
      ],
      "metadata": {
        "id": "2bAqXXInixLE"
      }
    },
    {
      "cell_type": "markdown",
      "source": [
        "## Preparación de los datos, eliminando etiquetas HTML como  '< br / >' y signos de puntuación para limpiar las reseñas."
      ],
      "metadata": {
        "id": "f99ZVlE8Plce"
      }
    },
    {
      "cell_type": "code",
      "source": [
        "import string\n",
        "import re\n",
        "\n",
        "\n",
        "# Having looked at our data above, we see that the raw text contains HTML break\n",
        "# tags of the form '<br />'. These tags will not be removed by the default\n",
        "# standardizer (which doesn't strip HTML). Because of this, we will need to\n",
        "# create a custom standardization function.\n",
        "def custom_standardization(input_data):\n",
        "    lowercase = tf.strings.lower(input_data)\n",
        "    stripped_html = tf.strings.regex_replace(lowercase, \"<br />\", \" \")\n",
        "    return tf.strings.regex_replace(\n",
        "        stripped_html, f\"[{re.escape(string.punctuation)}]\", \"\"\n",
        "    )\n",
        "\n",
        "\n",
        "# Model constants.\n",
        "max_features = 20000\n",
        "embedding_dim = 128\n",
        "sequence_length = 500\n",
        "\n",
        "# Now that we have our custom standardization, we can instantiate our text\n",
        "# vectorization layer. We are using this layer to normalize, split, and map\n",
        "# strings to integers, so we set our 'output_mode' to 'int'.\n",
        "# Note that we're using the default split function,\n",
        "# and the custom standardization defined above.\n",
        "# We also set an explicit maximum sequence length, since the CNNs later in our\n",
        "# model won't support ragged sequences.\n",
        "vectorize_layer = keras.layers.TextVectorization(\n",
        "    standardize=custom_standardization,\n",
        "    max_tokens=max_features,\n",
        "    output_mode=\"int\",\n",
        "    output_sequence_length=sequence_length,\n",
        ")\n",
        "\n",
        "# Now that the vectorize_layer has been created, call `adapt` on a text-only\n",
        "# dataset to create the vocabulary. You don't have to batch, but for very large\n",
        "# datasets this means you're not keeping spare copies of the dataset in memory.\n",
        "\n",
        "# Let's make a text-only dataset (no labels):\n",
        "text_ds = raw_train_ds.map(lambda x, y: x)\n",
        "# Let's call `adapt`:\n",
        "vectorize_layer.adapt(text_ds)"
      ],
      "metadata": {
        "id": "eCujbgMuizFY"
      },
      "execution_count": null,
      "outputs": []
    },
    {
      "cell_type": "markdown",
      "source": [
        "### Two options to vectorize the data\n",
        "\n",
        "There are 2 ways we can use our text vectorization layer:\n",
        "\n",
        "Option 1: Make it part of the model, so as to obtain a model that processes raw strings, like this:"
      ],
      "metadata": {
        "id": "6u6EiBn_jX8q"
      }
    },
    {
      "cell_type": "markdown",
      "source": [
        "## Explicación de las dos formas de usar la capa de vectorización:\n",
        "## Opción 1: Integrar la vectorización dentro del modelo.\n",
        "## Opción 2: Vectorizar los datos por separado antes de entrenar."
      ],
      "metadata": {
        "id": "0MfmgoQ5P-ut"
      }
    },
    {
      "cell_type": "code",
      "source": [
        "text_input = keras.Input(shape=(1,), dtype=tf.string, name='text')\n",
        "x = vectorize_layer(text_input)\n",
        "x = layers.Embedding(max_features + 1, embedding_dim)(x)\n",
        "..."
      ],
      "metadata": {
        "colab": {
          "base_uri": "https://localhost:8080/"
        },
        "id": "SH3dVksujcND",
        "outputId": "4ac73526-29b6-4ea7-e6f9-fb197e7c0dfa"
      },
      "execution_count": null,
      "outputs": [
        {
          "output_type": "execute_result",
          "data": {
            "text/plain": [
              "Ellipsis"
            ]
          },
          "metadata": {},
          "execution_count": 11
        }
      ]
    },
    {
      "cell_type": "markdown",
      "source": [
        "Option 2: Apply it to the text dataset to obtain a dataset of word indices, then feed it into a model that expects integer sequences as inputs.\n",
        "\n",
        "An important difference between the two is that option 2 enables you to do asynchronous CPU processing and buffering of your data when training on GPU. So if you're training the model on GPU, you probably want to go with this option to get the best performance. This is what we will do below.\n",
        "\n",
        "If we were to export our model to production, we'd ship a model that accepts raw strings as input, like in the code snippet for option 1 above. This can be done after training. We do this in the last section."
      ],
      "metadata": {
        "id": "DGlNK22ijkla"
      }
    },
    {
      "cell_type": "code",
      "source": [
        "def vectorize_text(text, label):\n",
        "    text = tf.expand_dims(text, -1)\n",
        "    return vectorize_layer(text), label\n",
        "\n",
        "\n",
        "# Vectorize the data.\n",
        "train_ds = raw_train_ds.map(vectorize_text)\n",
        "val_ds = raw_val_ds.map(vectorize_text)\n",
        "test_ds = raw_test_ds.map(vectorize_text)\n",
        "\n",
        "# Do async prefetching / buffering of the data for best performance on GPU.\n",
        "train_ds = train_ds.cache().prefetch(buffer_size=10)\n",
        "val_ds = val_ds.cache().prefetch(buffer_size=10)\n",
        "test_ds = test_ds.cache().prefetch(buffer_size=10)"
      ],
      "metadata": {
        "id": "C77m0dbSjlSU"
      },
      "execution_count": null,
      "outputs": []
    },
    {
      "cell_type": "markdown",
      "source": [
        "# **Build a model**\n",
        "\n",
        "## We choose a simple 1D convnet starting with an Embedding layer."
      ],
      "metadata": {
        "id": "ZmdKhMS3jrPk"
      }
    },
    {
      "cell_type": "markdown",
      "source": [
        "## Construcción del modelo utilizando una red neuronal convolucional de 1D\n",
        "## con capas de Embedding y Dropout para manejar secuencias de texto."
      ],
      "metadata": {
        "id": "8dZI_OwGQetj"
      }
    },
    {
      "cell_type": "code",
      "source": [
        "# A integer input for vocab indices.\n",
        "inputs = keras.Input(shape=(None,), dtype=\"int64\")\n",
        "\n",
        "# Next, we add a layer to map those vocab indices into a space of dimensionality\n",
        "# 'embedding_dim'.\n",
        "x = layers.Embedding(max_features, embedding_dim)(inputs)\n",
        "x = layers.Dropout(0.5)(x)\n",
        "\n",
        "# Conv1D + global max pooling\n",
        "x = layers.Conv1D(128, 7, padding=\"valid\", activation=\"relu\", strides=3)(x)\n",
        "x = layers.Conv1D(128, 7, padding=\"valid\", activation=\"relu\", strides=3)(x)\n",
        "x = layers.GlobalMaxPooling1D()(x)\n",
        "\n",
        "# We add a vanilla hidden layer:\n",
        "x = layers.Dense(128, activation=\"relu\")(x)\n",
        "x = layers.Dropout(0.5)(x)\n",
        "\n",
        "# We project onto a single unit output layer, and squash it with a sigmoid:\n",
        "predictions = layers.Dense(1, activation=\"sigmoid\", name=\"predictions\")(x)\n",
        "\n",
        "model = keras.Model(inputs, predictions)\n",
        "\n",
        "# Compile the model with binary crossentropy loss and an adam optimizer.\n",
        "model.compile(loss=\"binary_crossentropy\", optimizer=\"adam\", metrics=[\"accuracy\"])"
      ],
      "metadata": {
        "id": "PAnPXEVhjnw2"
      },
      "execution_count": null,
      "outputs": []
    },
    {
      "cell_type": "markdown",
      "source": [
        "# **Train the model**"
      ],
      "metadata": {
        "id": "AScrDF5Ojz8s"
      }
    },
    {
      "cell_type": "markdown",
      "source": [
        "## Entrenamiento del modelo utilizando los datasets de entrenamiento y validación."
      ],
      "metadata": {
        "id": "He7jzDV8QrcH"
      }
    },
    {
      "cell_type": "code",
      "source": [
        "epochs = 3\n",
        "\n",
        "# Fit the model using the train and test datasets.\n",
        "model.fit(train_ds, validation_data=val_ds, epochs=epochs)"
      ],
      "metadata": {
        "colab": {
          "base_uri": "https://localhost:8080/"
        },
        "id": "EF_kUVkljwus",
        "outputId": "fb5a8154-6c71-4337-8615-198b78ef237f"
      },
      "execution_count": null,
      "outputs": [
        {
          "output_type": "stream",
          "name": "stdout",
          "text": [
            "Epoch 1/3\n",
            "\u001b[1m625/625\u001b[0m \u001b[32m━━━━━━━━━━━━━━━━━━━━\u001b[0m\u001b[37m\u001b[0m \u001b[1m116s\u001b[0m 180ms/step - accuracy: 0.6052 - loss: 0.6093 - val_accuracy: 0.8622 - val_loss: 0.3183\n",
            "Epoch 2/3\n",
            "\u001b[1m625/625\u001b[0m \u001b[32m━━━━━━━━━━━━━━━━━━━━\u001b[0m\u001b[37m\u001b[0m \u001b[1m137s\u001b[0m 173ms/step - accuracy: 0.8884 - loss: 0.2743 - val_accuracy: 0.8716 - val_loss: 0.3040\n",
            "Epoch 3/3\n",
            "\u001b[1m625/625\u001b[0m \u001b[32m━━━━━━━━━━━━━━━━━━━━\u001b[0m\u001b[37m\u001b[0m \u001b[1m108s\u001b[0m 173ms/step - accuracy: 0.9440 - loss: 0.1458 - val_accuracy: 0.8580 - val_loss: 0.4170\n"
          ]
        },
        {
          "output_type": "execute_result",
          "data": {
            "text/plain": [
              "<keras.src.callbacks.history.History at 0x7ba64a067010>"
            ]
          },
          "metadata": {},
          "execution_count": 14
        }
      ]
    },
    {
      "cell_type": "markdown",
      "source": [
        "# **Evaluate the model on the test set**"
      ],
      "metadata": {
        "id": "ZNp6-D_DlzYx"
      }
    },
    {
      "cell_type": "markdown",
      "source": [
        "## Evaluación del rendimiento del modelo en el conjunto de datos de prueba."
      ],
      "metadata": {
        "id": "eZ-xTx2qQ3G1"
      }
    },
    {
      "cell_type": "code",
      "source": [
        "model.evaluate(test_ds)"
      ],
      "metadata": {
        "colab": {
          "base_uri": "https://localhost:8080/"
        },
        "id": "bsJVWl2Jj3fd",
        "outputId": "7755e1f8-d199-41a8-e095-b991e5ac2ae9"
      },
      "execution_count": null,
      "outputs": [
        {
          "output_type": "stream",
          "name": "stdout",
          "text": [
            "\u001b[1m782/782\u001b[0m \u001b[32m━━━━━━━━━━━━━━━━━━━━\u001b[0m\u001b[37m\u001b[0m \u001b[1m35s\u001b[0m 45ms/step - accuracy: 0.8590 - loss: 0.4093\n"
          ]
        },
        {
          "output_type": "execute_result",
          "data": {
            "text/plain": [
              "[0.41976627707481384, 0.8575199842453003]"
            ]
          },
          "metadata": {},
          "execution_count": 15
        }
      ]
    },
    {
      "cell_type": "markdown",
      "source": [
        "# Make an end-to-end model\n",
        "## If you want to obtain a model capable of processing raw strings, you can simply create a new model (using the weights we just trained):"
      ],
      "metadata": {
        "id": "Bs6WgJbJl53j"
      }
    },
    {
      "cell_type": "markdown",
      "source": [
        "## Creación de un modelo capaz de procesar directamente cadenas de texto como entradas para su uso en producción."
      ],
      "metadata": {
        "id": "0KX9USOIQ9o0"
      }
    },
    {
      "cell_type": "code",
      "source": [
        "# A string input\n",
        "inputs = keras.Input(shape=(1,), dtype=\"string\")\n",
        "# Turn strings into vocab indices\n",
        "indices = vectorize_layer(inputs)\n",
        "# Turn vocab indices into predictions\n",
        "outputs = model(indices)\n",
        "\n",
        "# Our end to end model\n",
        "end_to_end_model = keras.Model(inputs, outputs)\n",
        "end_to_end_model.compile(\n",
        "    loss=\"binary_crossentropy\", optimizer=\"adam\", metrics=[\"accuracy\"]\n",
        ")\n",
        "\n",
        "# Test it with `raw_test_ds`, which yields raw strings\n",
        "end_to_end_model.evaluate(raw_test_ds)"
      ],
      "metadata": {
        "colab": {
          "base_uri": "https://localhost:8080/"
        },
        "id": "9Xer5inql2Kl",
        "outputId": "89d08531-59b8-48bc-e519-0aa355810541"
      },
      "execution_count": null,
      "outputs": [
        {
          "output_type": "stream",
          "name": "stdout",
          "text": [
            "\u001b[1m782/782\u001b[0m \u001b[32m━━━━━━━━━━━━━━━━━━━━\u001b[0m\u001b[37m\u001b[0m \u001b[1m32s\u001b[0m 40ms/step - accuracy: 0.8581 - loss: 0.0000e+00\n"
          ]
        },
        {
          "output_type": "execute_result",
          "data": {
            "text/plain": [
              "[0.0, 0.0, 0.8575199842453003, 0.8575199842453003]"
            ]
          },
          "metadata": {},
          "execution_count": 16
        }
      ]
    },
    {
      "cell_type": "markdown",
      "source": [
        "# **Conteo de Reseñas Positivas y Negativas en el Conjunto de Entrenamiento**\n",
        "\n",
        "Este fragmento de código se encarga de contar y mostrar la cantidad de reseñas positivas y negativas presentes en el conjunto de entrenamiento del dataset. Utiliza las funciones de la librería **'os'** para listar los archivos en los directorios correspondientes a reseñas positivas y negativas. Al final, imprime el total de reseñas en el conjunto de entrenamiento.\n",
        "\n",
        "\n",
        "\n",
        "\n",
        "\n"
      ],
      "metadata": {
        "id": "mMbibC97hhmu"
      }
    },
    {
      "cell_type": "code",
      "source": [
        "import os\n",
        "pos_reviews = os.listdir('aclImdb/train/pos')\n",
        "neg_reviews = os.listdir('aclImdb/train/neg')\n",
        "\n",
        "# Imprimir la cantidad de reseñas positivas y negativas en el conjunto de entrenamiento\n",
        "print(f'Total reseñas positivas en el conjunto de entrenamiento: {len(pos_reviews)}')\n",
        "print(f'Total reseñas negativas en el conjunto de entrenamiento: {len(neg_reviews)}')\n",
        "print(f'Total reseñas en el dataset de entrenamiento: {len(pos_reviews) + len(neg_reviews)}')\n"
      ],
      "metadata": {
        "colab": {
          "base_uri": "https://localhost:8080/"
        },
        "id": "3EIWPU7x6HMi",
        "outputId": "185c57c4-c887-4d44-8766-c6bc89e0dd73"
      },
      "execution_count": null,
      "outputs": [
        {
          "output_type": "stream",
          "name": "stdout",
          "text": [
            "Total reseñas positivas en el conjunto de entrenamiento: 12500\n",
            "Total reseñas negativas en el conjunto de entrenamiento: 12500\n",
            "Total reseñas en el dataset de entrenamiento: 25000\n"
          ]
        }
      ]
    }
  ]
}